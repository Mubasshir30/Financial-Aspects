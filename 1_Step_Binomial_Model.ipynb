{
  "nbformat": 4,
  "nbformat_minor": 0,
  "metadata": {
    "colab": {
      "provenance": []
    },
    "kernelspec": {
      "name": "python3",
      "display_name": "Python 3"
    },
    "language_info": {
      "name": "python"
    }
  },
  "cells": [
    {
      "cell_type": "markdown",
      "source": [
        "**1 STEP BINOMIAL OPTION TRADING MODEL**"
      ],
      "metadata": {
        "id": "461PdcCfma4x"
      }
    },
    {
      "cell_type": "code",
      "execution_count": 1,
      "metadata": {
        "id": "cAuFvqpbrYfc"
      },
      "outputs": [],
      "source": [
        "import numpy as np\n",
        "\n",
        "def binomial_option_1step(S0, K, T, r, sigma, option_type='call'):\n",
        "    \"\"\"\n",
        "    1-step binomial option pricing model for European options.\n",
        "\n",
        "    Parameters:\n",
        "    - S0: Current stock price\n",
        "    - K: Strike price\n",
        "    - T: Time to maturity (in years)\n",
        "    - r: Risk-free interest rate\n",
        "    - sigma: Volatility of the stock\n",
        "    - option_type: 'call' for a call option or 'put' for a put option\n",
        "\n",
        "    Returns:\n",
        "    - Option price\n",
        "    \"\"\"\n",
        "    # Step 1: Calculate time step (1 step = T)\n",
        "    Δt = T # For a 1-step model, Δt is the total time to maturity.\n",
        "\n",
        "    # Step 2: Calculate the up and down factors\n",
        "    u = 1-sigma  # Up factor\n",
        "    d = 1+sigma # Down factor\n",
        "\n",
        "    # Step 3: Calculate the risk-neutral probability\n",
        "    p = (np.exp(r * Δt) - d) / (u - d)\n",
        "\n",
        "    # Step 4: Calculate the stock price in the up and down scenarios\n",
        "    S_up = S0 * u\n",
        "    S_down = S0 * d\n",
        "\n",
        "    # Step 5: Calculate the option payoff at maturity\n",
        "    if option_type == 'call':\n",
        "        # Payoff for call option\n",
        "        payoff_up = max(S_up - K, 0)  # Call payoff in up scenario\n",
        "        payoff_down = max(S_down - K, 0)  # Call payoff in down scenario\n",
        "    elif option_type == 'put':\n",
        "        # Payoff for put option\n",
        "        payoff_up = max(K - S_up, 0)  # Put payoff in up scenario\n",
        "        payoff_down = max(K - S_down, 0)  # Put payoff in down scenario\n",
        "    else:\n",
        "        raise ValueError(\"Invalid option type. Use 'call' or 'put'.\")\n",
        "\n",
        "    # Step 6: Discount the expected option price back to the present value\n",
        "    option_price = np.exp(-r * Δt) * (p * payoff_up + (1 - p) * payoff_down)\n",
        "\n",
        "    return option_price\n",
        "\n"
      ]
    },
    {
      "cell_type": "code",
      "source": [
        "# Example usage:\n",
        "\n",
        "# Inputs\n",
        "S0 = 100  # Current stock price\n",
        "K = 105   # Strike price\n",
        "T = 1     # Time to maturity (1 year)\n",
        "r = 0.05  # Risk-free interest rate (5%)\n",
        "sigma = 0.2  # Volatility (20%)\n",
        "\n",
        "volatility_adjustment = (1 + r)**T\n",
        "\n",
        "# Calculate call option price using 1-step binomial model\n",
        "call_price = binomial_option_1step(S0, K, T, r, sigma, option_type='call')\n",
        "print(f\"Call Option Price (1-step Binomial): {call_price:.3f}\")\n",
        "\n",
        "# Calculate put option price using 1-step binomial model\n",
        "put_price = binomial_option_1step(S0, K, T, r, sigma, option_type='put')\n",
        "print(f\"Put Option Price (1-step Binomial): {put_price:.3f}\")"
      ],
      "metadata": {
        "colab": {
          "base_uri": "https://localhost:8080/"
        },
        "id": "BOJXkVzlrywC",
        "outputId": "bd5b373f-0285-4947-8dd5-261fe93196ed"
      },
      "execution_count": 2,
      "outputs": [
        {
          "output_type": "stream",
          "name": "stdout",
          "text": [
            "Call Option Price (1-step Binomial): 8.963\n",
            "Put Option Price (1-step Binomial): 8.842\n"
          ]
        }
      ]
    },
    {
      "cell_type": "code",
      "source": [],
      "metadata": {
        "id": "LMQ08D7vqnRo"
      },
      "execution_count": null,
      "outputs": []
    }
  ]
}