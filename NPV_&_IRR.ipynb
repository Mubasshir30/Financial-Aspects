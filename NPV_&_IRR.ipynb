{
  "nbformat": 4,
  "nbformat_minor": 0,
  "metadata": {
    "colab": {
      "provenance": []
    },
    "kernelspec": {
      "name": "python3",
      "display_name": "Python 3"
    },
    "language_info": {
      "name": "python"
    }
  },
  "cells": [
    {
      "cell_type": "code",
      "execution_count": 1,
      "metadata": {
        "id": "KqT-x4qdCxDF"
      },
      "outputs": [],
      "source": [
        "import numpy as np"
      ]
    },
    {
      "cell_type": "code",
      "source": [
        "from scipy import optimize"
      ],
      "metadata": {
        "id": "DYDi6lgcHZMy"
      },
      "execution_count": 2,
      "outputs": []
    },
    {
      "cell_type": "code",
      "source": [
        "import pandas as pd"
      ],
      "metadata": {
        "id": "Y48usv8bDFs-"
      },
      "execution_count": 3,
      "outputs": []
    },
    {
      "cell_type": "markdown",
      "source": [
        "Cash Flow"
      ],
      "metadata": {
        "id": "0Qnf0LeJJEIY"
      }
    },
    {
      "cell_type": "code",
      "source": [
        "cash_flows=[-750000,100000,108000,-37500,250000,178000,-50000,125000,182000]"
      ],
      "metadata": {
        "id": "wFGgFs3cDld_"
      },
      "execution_count": 4,
      "outputs": []
    },
    {
      "cell_type": "markdown",
      "source": [
        "Discount rate"
      ],
      "metadata": {
        "id": "3yMrUqpfJAqR"
      }
    },
    {
      "cell_type": "code",
      "source": [
        "rate=0.058"
      ],
      "metadata": {
        "id": "yFOAfACBEBJO"
      },
      "execution_count": 5,
      "outputs": []
    },
    {
      "cell_type": "markdown",
      "source": [
        "Define a function to Calculate NPV"
      ],
      "metadata": {
        "id": "zq73_QioI3aA"
      }
    },
    {
      "cell_type": "code",
      "source": [
        "def calculate_npv(rate, cash_flows):\n",
        "    npv = 0\n",
        "    for t, cash_flow in enumerate(cash_flows):\n",
        "        npv += cash_flow / (1 + rate) ** t\n",
        "    return npv"
      ],
      "metadata": {
        "id": "JHrervxuEuCU"
      },
      "execution_count": 9,
      "outputs": []
    },
    {
      "cell_type": "code",
      "source": [
        "npv = calculate_npv(rate,cash_flows)\n"
      ],
      "metadata": {
        "id": "BmC0_McwE1-g"
      },
      "execution_count": 14,
      "outputs": []
    },
    {
      "cell_type": "code",
      "source": [
        "print(f\"Net Present Value (NPV): {npv}\")"
      ],
      "metadata": {
        "colab": {
          "base_uri": "https://localhost:8080/"
        },
        "id": "PcNh6MtnEat5",
        "outputId": "1f438bba-bba9-444e-c5db-64c9fc9f0eb3"
      },
      "execution_count": 15,
      "outputs": [
        {
          "output_type": "stream",
          "name": "stdout",
          "text": [
            "Net Present Value (NPV): -92348.25139177372\n"
          ]
        }
      ]
    },
    {
      "cell_type": "markdown",
      "source": [
        "It was difficult to find the IRR using the previous code, so I used the optimize library, which provides another method to calculate the IRR\n",
        "\n"
      ],
      "metadata": {
        "id": "K1CD9pIiIt4r"
      }
    },
    {
      "cell_type": "code",
      "source": [
        "def npv(rate, cash_flows):\n",
        "    return sum([cf / (1 + rate)**i for i, cf in enumerate(cash_flows)])"
      ],
      "metadata": {
        "id": "Dx0c--6QIndY"
      },
      "execution_count": 16,
      "outputs": []
    },
    {
      "cell_type": "markdown",
      "source": [
        "Calculating IRR using the optimize function from scipy"
      ],
      "metadata": {
        "id": "PsDcuj60IEzh"
      }
    },
    {
      "cell_type": "code",
      "source": [
        "irr = optimize.newton(lambda r: npv(r, cash_flows), 0.058)"
      ],
      "metadata": {
        "id": "ETXKwEMDGkQl"
      },
      "execution_count": 17,
      "outputs": []
    },
    {
      "cell_type": "code",
      "source": [
        "print(f\"Internal Rate of Return (IRR): {irr}\")"
      ],
      "metadata": {
        "colab": {
          "base_uri": "https://localhost:8080/"
        },
        "id": "QxjIzlcDHpBY",
        "outputId": "73ae8d0e-fb3f-4c01-9314-20024a675ec8"
      },
      "execution_count": 18,
      "outputs": [
        {
          "output_type": "stream",
          "name": "stdout",
          "text": [
            "Internal Rate of Return (IRR): 0.028129474628393762\n"
          ]
        }
      ]
    }
  ]
}